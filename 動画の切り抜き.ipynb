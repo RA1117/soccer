{
 "cells": [
  {
   "cell_type": "code",
   "execution_count": 1,
   "id": "384098c6",
   "metadata": {},
   "outputs": [
    {
     "name": "stdout",
     "output_type": "stream",
     "text": [
      "Requirement already satisfied: moviepy in c:\\users\\ryutaarai\\anaconda3\\lib\\site-packages (1.0.3)\n",
      "Requirement already satisfied: imageio-ffmpeg>=0.2.0 in c:\\users\\ryutaarai\\anaconda3\\lib\\site-packages (from moviepy) (0.4.7)\n",
      "Requirement already satisfied: decorator<5.0,>=4.0.2 in c:\\users\\ryutaarai\\anaconda3\\lib\\site-packages (from moviepy) (4.4.2)\n",
      "Requirement already satisfied: imageio<3.0,>=2.5 in c:\\users\\ryutaarai\\anaconda3\\lib\\site-packages (from moviepy) (2.9.0)\n",
      "Requirement already satisfied: numpy>=1.17.3 in c:\\users\\ryutaarai\\anaconda3\\lib\\site-packages (from moviepy) (1.23.3)\n",
      "Requirement already satisfied: requests<3.0,>=2.8.1 in c:\\users\\ryutaarai\\anaconda3\\lib\\site-packages (from moviepy) (2.28.1)\n",
      "Requirement already satisfied: tqdm<5.0,>=4.11.2 in c:\\users\\ryutaarai\\anaconda3\\lib\\site-packages (from moviepy) (4.64.1)\n",
      "Requirement already satisfied: proglog<=1.0.0 in c:\\users\\ryutaarai\\anaconda3\\lib\\site-packages (from moviepy) (0.1.10)\n",
      "Requirement already satisfied: pillow in c:\\users\\ryutaarai\\anaconda3\\lib\\site-packages (from imageio<3.0,>=2.5->moviepy) (9.2.0)\n",
      "Requirement already satisfied: certifi>=2017.4.17 in c:\\users\\ryutaarai\\anaconda3\\lib\\site-packages (from requests<3.0,>=2.8.1->moviepy) (2021.10.8)\n",
      "Requirement already satisfied: idna<4,>=2.5 in c:\\users\\ryutaarai\\anaconda3\\lib\\site-packages (from requests<3.0,>=2.8.1->moviepy) (3.2)\n",
      "Requirement already satisfied: charset-normalizer<3,>=2 in c:\\users\\ryutaarai\\anaconda3\\lib\\site-packages (from requests<3.0,>=2.8.1->moviepy) (2.0.4)\n",
      "Requirement already satisfied: urllib3<1.27,>=1.21.1 in c:\\users\\ryutaarai\\anaconda3\\lib\\site-packages (from requests<3.0,>=2.8.1->moviepy) (1.26.7)\n",
      "Requirement already satisfied: colorama in c:\\users\\ryutaarai\\anaconda3\\lib\\site-packages (from tqdm<5.0,>=4.11.2->moviepy) (0.4.4)\n",
      "Note: you may need to restart the kernel to use updated packages.\n"
     ]
    },
    {
     "name": "stderr",
     "output_type": "stream",
     "text": [
      "\n",
      "[notice] A new release of pip available: 22.2.2 -> 22.3\n",
      "[notice] To update, run: python.exe -m pip install --upgrade pip\n"
     ]
    }
   ],
   "source": [
    "pip install moviepy"
   ]
  },
  {
   "cell_type": "code",
   "execution_count": 983,
   "id": "3a1ad822",
   "metadata": {},
   "outputs": [
    {
     "name": "stdout",
     "output_type": "stream",
     "text": [
      "Moviepy - Building video video/test/Corner/Corner_1_210_2015-11-21-ML-1-4.mp4.\n",
      "MoviePy - Writing audio in Corner_1_210_2015-11-21-ML-1-4TEMP_MPY_wvf_snd.mp3\n"
     ]
    },
    {
     "name": "stderr",
     "output_type": "stream",
     "text": [
      "                                                                                                                       \r"
     ]
    },
    {
     "name": "stdout",
     "output_type": "stream",
     "text": [
      "MoviePy - Done.\n",
      "Moviepy - Writing video video/test/Corner/Corner_1_210_2015-11-21-ML-1-4.mp4\n",
      "\n"
     ]
    },
    {
     "name": "stderr",
     "output_type": "stream",
     "text": [
      "                                                                                                                       \r"
     ]
    },
    {
     "name": "stdout",
     "output_type": "stream",
     "text": [
      "Moviepy - Done !\n",
      "Moviepy - video ready video/test/Corner/Corner_1_210_2015-11-21-ML-1-4.mp4\n"
     ]
    }
   ],
   "source": [
    "from moviepy.editor import *\n",
    "\n",
    "file_path = \"1.mp4\"    # 編集したい動画のパス\n",
    "a = 210\n",
    "start = a -2    # 切り出し開始時刻。秒で表現\n",
    "\n",
    "end = a + 2    # 切り出し終了時刻。同じく秒で表現\n",
    "\n",
    "save_path = \"video/test/Corner/Corner_1_210_2015-11-21-ML-1-4.mp4\"    # 編集後のファイル保存先のパス\n",
    "\n",
    "video = VideoFileClip(file_path).subclip(start, end)    # ビデオのカット開始\n",
    "\n",
    "video.write_videofile(save_path,fps=25)    # fpsは元の動画に合わせて29に設定"
   ]
  },
  {
   "cell_type": "code",
   "execution_count": 950,
   "id": "f048f69b",
   "metadata": {},
   "outputs": [
    {
     "name": "stdout",
     "output_type": "stream",
     "text": [
      "Moviepy - Building video video/test/Throw-in/Throw-in_1_2430_2017-04-26-BO-7-1.mp4.\n",
      "MoviePy - Writing audio in Throw-in_1_2430_2017-04-26-BO-7-1TEMP_MPY_wvf_snd.mp3\n"
     ]
    },
    {
     "name": "stderr",
     "output_type": "stream",
     "text": [
      "                                                                                                                       \r"
     ]
    },
    {
     "name": "stdout",
     "output_type": "stream",
     "text": [
      "MoviePy - Done.\n",
      "Moviepy - Writing video video/test/Throw-in/Throw-in_1_2430_2017-04-26-BO-7-1.mp4\n",
      "\n"
     ]
    },
    {
     "name": "stderr",
     "output_type": "stream",
     "text": [
      "                                                                                                                       \r"
     ]
    },
    {
     "name": "stdout",
     "output_type": "stream",
     "text": [
      "Moviepy - Done !\n",
      "Moviepy - video ready video/test/Throw-in/Throw-in_1_2430_2017-04-26-BO-7-1.mp4\n"
     ]
    }
   ],
   "source": [
    "from moviepy.editor import *\n",
    "\n",
    "file_path = \"1.mp4\"    # 編集したい動画のパス\n",
    "a =2430\n",
    "start = a - 2    # 切り出し開始時刻。秒で表現\n",
    "\n",
    "end = a + 2   # 切り出し終了時刻。同じく秒で表現\n",
    "\n",
    "save_path = \"video/test/Throw-in/Throw-in_1_2430_2015-11-21-ML-1-4.mp4\"    # 編集後のファイル保存先のパス\n",
    "\n",
    "video = VideoFileClip(file_path).subclip(start, end)    # ビデオのカット開始\n",
    "\n",
    "video.write_videofile(save_path,fps=25)    # fpsは元の動画に合わせて29に設定"
   ]
  },
  {
   "cell_type": "code",
   "execution_count": 894,
   "id": "8a338752",
   "metadata": {},
   "outputs": [
    {
     "name": "stdout",
     "output_type": "stream",
     "text": [
      "Moviepy - Building video video/test/Card/Card_1_1390_2015-08-29-RB-5-0.mp4.\n",
      "MoviePy - Writing audio in Card_1_1390_2015-08-29-RB-5-0TEMP_MPY_wvf_snd.mp3\n"
     ]
    },
    {
     "name": "stderr",
     "output_type": "stream",
     "text": [
      "                                                                                                                       \r"
     ]
    },
    {
     "name": "stdout",
     "output_type": "stream",
     "text": [
      "MoviePy - Done.\n",
      "Moviepy - Writing video video/test/Card/Card_1_1390_2015-08-29-RB-5-0.mp4\n",
      "\n"
     ]
    },
    {
     "name": "stderr",
     "output_type": "stream",
     "text": [
      "                                                                                                                       \r"
     ]
    },
    {
     "name": "stdout",
     "output_type": "stream",
     "text": [
      "Moviepy - Done !\n",
      "Moviepy - video ready video/test/Card/Card_1_1390_2015-08-29-RB-5-0.mp4\n"
     ]
    }
   ],
   "source": [
    "from moviepy.editor import *\n",
    "\n",
    "file_path = \"1.mp4\"    # 編集したい動画のパス\n",
    "a =1390\n",
    "start = a - 2    # 切り出し開始時刻。秒で表現\n",
    "\n",
    "end = a + 2    # 切り出し終了時刻。同じく秒で表現\n",
    "\n",
    "save_path = \"video/test/Card/Card_1_1390_2015-11-21-ML-1-4.mp4\"    # 編集後のファイル保存先のパス\n",
    "\n",
    "video = VideoFileClip(file_path).subclip(start, end)    # ビデオのカット開始\n",
    "\n",
    "video.write_videofile(save_path,fps=25)    # fpsは元の動画に合わせて29に設定"
   ]
  },
  {
   "cell_type": "code",
   "execution_count": 957,
   "id": "44408f87",
   "metadata": {},
   "outputs": [
    {
     "name": "stdout",
     "output_type": "stream",
     "text": [
      "Moviepy - Building video video/test/Foul/Foul_1_2280_2017-04-26-BO-7-1.mp4.\n",
      "MoviePy - Writing audio in Foul_1_2280_2017-04-26-BO-7-1TEMP_MPY_wvf_snd.mp3\n"
     ]
    },
    {
     "name": "stderr",
     "output_type": "stream",
     "text": [
      "                                                                                                                       \r"
     ]
    },
    {
     "name": "stdout",
     "output_type": "stream",
     "text": [
      "MoviePy - Done.\n",
      "Moviepy - Writing video video/test/Foul/Foul_1_2280_2017-04-26-BO-7-1.mp4\n",
      "\n"
     ]
    },
    {
     "name": "stderr",
     "output_type": "stream",
     "text": [
      "                                                                                                                       \r"
     ]
    },
    {
     "name": "stdout",
     "output_type": "stream",
     "text": [
      "Moviepy - Done !\n",
      "Moviepy - video ready video/test/Foul/Foul_1_2280_2017-04-26-BO-7-1.mp4\n"
     ]
    }
   ],
   "source": [
    "from moviepy.editor import *\n",
    "\n",
    "file_path = \"1.mp4\"    # 編集したい動画のパス\n",
    "a =2280\n",
    "start = a - 2    # 切り出し開始時刻。秒で表現\n",
    "\n",
    "end = a + 2   # 切り出し終了時刻。同じく秒で表現\n",
    "\n",
    "save_path = \"video/test/Foul/Foul_1_2280_2015-11-21-ML-1-4.mp4\"    # 編集後のファイル保存先のパス\n",
    "\n",
    "video = VideoFileClip(file_path).subclip(start, end)    # ビデオのカット開始\n",
    "\n",
    "video.write_videofile(save_path,fps=25)    # fpsは元の動画に合わせて29に設定"
   ]
  },
  {
   "cell_type": "code",
   "execution_count": 959,
   "id": "4240ce0a",
   "metadata": {},
   "outputs": [
    {
     "name": "stdout",
     "output_type": "stream",
     "text": [
      "Moviepy - Building video video/test/Clearence/Clearence_1_404_2017-04-26-BO-7-1.mp4.\n",
      "MoviePy - Writing audio in Clearence_1_404_2017-04-26-BO-7-1TEMP_MPY_wvf_snd.mp3\n"
     ]
    },
    {
     "name": "stderr",
     "output_type": "stream",
     "text": [
      "                                                                                                                       \r"
     ]
    },
    {
     "name": "stdout",
     "output_type": "stream",
     "text": [
      "MoviePy - Done.\n",
      "Moviepy - Writing video video/test/Clearence/Clearence_1_404_2017-04-26-BO-7-1.mp4\n",
      "\n"
     ]
    },
    {
     "name": "stderr",
     "output_type": "stream",
     "text": [
      "                                                                                                                       \r"
     ]
    },
    {
     "name": "stdout",
     "output_type": "stream",
     "text": [
      "Moviepy - Done !\n",
      "Moviepy - video ready video/test/Clearence/Clearence_1_404_2017-04-26-BO-7-1.mp4\n"
     ]
    }
   ],
   "source": [
    "from moviepy.editor import *\n",
    "\n",
    "file_path = \"1.mp4\"    # 編集したい動画のパス\n",
    "\n",
    "a = 404\n",
    "start = a - 2    # 切り出し開始時刻。秒で表現\n",
    "\n",
    "end = a + 2   # 切り出し終了時刻。同じく秒で表現\n",
    "\n",
    "save_path = \"video/test/Clearence/Clearence_1_404_2015-11-21-ML-1-4.mp4\"    # 編集後のファイル保存先のパス\n",
    "\n",
    "video = VideoFileClip(file_path).subclip(start, end)    # ビデオのカット開始\n",
    "\n",
    "video.write_videofile(save_path,fps=25)    # fpsは元の動画に合わせて29に設定"
   ]
  },
  {
   "cell_type": "code",
   "execution_count": 961,
   "id": "bba4c933",
   "metadata": {},
   "outputs": [
    {
     "name": "stdout",
     "output_type": "stream",
     "text": [
      "Moviepy - Building video video/test/free-kick/free-kick_2_126_2017-04-26-BO-7-1.mp4.\n",
      "MoviePy - Writing audio in free-kick_2_126_2017-04-26-BO-7-1TEMP_MPY_wvf_snd.mp3\n"
     ]
    },
    {
     "name": "stderr",
     "output_type": "stream",
     "text": [
      "                                                                                                                       \r"
     ]
    },
    {
     "name": "stdout",
     "output_type": "stream",
     "text": [
      "MoviePy - Done.\n",
      "Moviepy - Writing video video/test/free-kick/free-kick_2_126_2017-04-26-BO-7-1.mp4\n",
      "\n"
     ]
    },
    {
     "name": "stderr",
     "output_type": "stream",
     "text": [
      "                                                                                                                       \r"
     ]
    },
    {
     "name": "stdout",
     "output_type": "stream",
     "text": [
      "Moviepy - Done !\n",
      "Moviepy - video ready video/test/free-kick/free-kick_2_126_2017-04-26-BO-7-1.mp4\n"
     ]
    }
   ],
   "source": [
    "from moviepy.editor import *\n",
    "\n",
    "file_path = \"2.mp4\"    # 編集したい動画のパス\n",
    "\n",
    "a = 126\n",
    "start = a - 2    # 切り出し開始時刻。秒で表現\n",
    "\n",
    "end = a + 2   # 切り出し終了時刻。同じく秒で表現\n",
    "\n",
    "save_path = \"video/test/free-kick/free-kick_2_126_2015-11-21-ML-1-4.mp4\"    # 編集後のファイル保存先のパス\n",
    "\n",
    "video = VideoFileClip(file_path).subclip(start, end)    # ビデオのカット開始\n",
    "\n",
    "video.write_videofile(save_path,fps=25)"
   ]
  },
  {
   "cell_type": "code",
   "execution_count": 962,
   "id": "adef348a",
   "metadata": {},
   "outputs": [
    {
     "name": "stdout",
     "output_type": "stream",
     "text": [
      "Moviepy - Building video video/test/PK/PK_2_1300_2017-04-26-BO-7-1.mp4.\n",
      "MoviePy - Writing audio in PK_2_1300_2017-04-26-BO-7-1TEMP_MPY_wvf_snd.mp3\n"
     ]
    },
    {
     "name": "stderr",
     "output_type": "stream",
     "text": [
      "                                                                                                                       \r"
     ]
    },
    {
     "name": "stdout",
     "output_type": "stream",
     "text": [
      "MoviePy - Done.\n",
      "Moviepy - Writing video video/test/PK/PK_2_1300_2017-04-26-BO-7-1.mp4\n",
      "\n"
     ]
    },
    {
     "name": "stderr",
     "output_type": "stream",
     "text": [
      "                                                                                                                       \r"
     ]
    },
    {
     "name": "stdout",
     "output_type": "stream",
     "text": [
      "Moviepy - Done !\n",
      "Moviepy - video ready video/test/PK/PK_2_1300_2017-04-26-BO-7-1.mp4\n"
     ]
    }
   ],
   "source": [
    "from moviepy.editor import *\n",
    "\n",
    "file_path = \"2.mp4\"    # 編集したい動画のパス\n",
    "\n",
    "a = 1300\n",
    "start = a - 2    # 切り出し開始時刻。秒で表現\n",
    "\n",
    "end = a + 2   # 切り出し終了時刻。同じく秒で表現\n",
    "\n",
    "save_path = \"video/test/PK/PK_2_1300_2015-11-21-ML-1-4.mp4\"    # 編集後のファイル保存先のパス\n",
    "\n",
    "video = VideoFileClip(file_path).subclip(start, end)    # ビデオのカット開始\n",
    "\n",
    "video.write_videofile(save_path,fps=25)"
   ]
  },
  {
   "cell_type": "code",
   "execution_count": 970,
   "id": "9cad3fea",
   "metadata": {},
   "outputs": [
    {
     "name": "stdout",
     "output_type": "stream",
     "text": [
      "Moviepy - Building video video/test/Goal/Goal_2_2442_2017-04-26-BO-7-1.mp4.\n",
      "MoviePy - Writing audio in Goal_2_2442_2017-04-26-BO-7-1TEMP_MPY_wvf_snd.mp3\n"
     ]
    },
    {
     "name": "stderr",
     "output_type": "stream",
     "text": [
      "                                                                                                                       \r"
     ]
    },
    {
     "name": "stdout",
     "output_type": "stream",
     "text": [
      "MoviePy - Done.\n",
      "Moviepy - Writing video video/test/Goal/Goal_2_2442_2017-04-26-BO-7-1.mp4\n",
      "\n"
     ]
    },
    {
     "name": "stderr",
     "output_type": "stream",
     "text": [
      "                                                                                                                       \r"
     ]
    },
    {
     "name": "stdout",
     "output_type": "stream",
     "text": [
      "Moviepy - Done !\n",
      "Moviepy - video ready video/test/Goal/Goal_2_2442_2017-04-26-BO-7-1.mp4\n"
     ]
    }
   ],
   "source": [
    "from moviepy.editor import *\n",
    "\n",
    "file_path = \"2.mp4\"    # 編集したい動画のパス\n",
    "\n",
    "a = 2442\n",
    "start = a - 2    # 切り出し開始時刻。秒で表現\n",
    "\n",
    "end = a + 2   # 切り出し終了時刻。同じく秒で表現\n",
    "\n",
    "save_path = \"video/test/Goal/Goal_2_2442_2015-11-21-ML-1-4.mp4\"    # 編集後のファイル保存先のパス\n",
    "\n",
    "video = VideoFileClip(file_path).subclip(start, end)    # ビデオのカット開始\n",
    "\n",
    "video.write_videofile(save_path,fps=25)"
   ]
  },
  {
   "cell_type": "code",
   "execution_count": 977,
   "id": "14a118c6",
   "metadata": {},
   "outputs": [
    {
     "name": "stdout",
     "output_type": "stream",
     "text": [
      "Moviepy - Building video video/test/Shots/Shots_2_2696_2017-04-26-BO-7-1.mp4.\n",
      "MoviePy - Writing audio in Shots_2_2696_2017-04-26-BO-7-1TEMP_MPY_wvf_snd.mp3\n"
     ]
    },
    {
     "name": "stderr",
     "output_type": "stream",
     "text": [
      "                                                                                                                       \r"
     ]
    },
    {
     "name": "stdout",
     "output_type": "stream",
     "text": [
      "MoviePy - Done.\n",
      "Moviepy - Writing video video/test/Shots/Shots_2_2696_2017-04-26-BO-7-1.mp4\n",
      "\n"
     ]
    },
    {
     "name": "stderr",
     "output_type": "stream",
     "text": [
      "                                                                                                                       \r"
     ]
    },
    {
     "name": "stdout",
     "output_type": "stream",
     "text": [
      "Moviepy - Done !\n",
      "Moviepy - video ready video/test/Shots/Shots_2_2696_2017-04-26-BO-7-1.mp4\n"
     ]
    }
   ],
   "source": [
    "from moviepy.editor import *\n",
    "\n",
    "file_path = \"2.mp4\"    # 編集したい動画のパス\n",
    "\n",
    "a = 2696\n",
    "start = a - 2    # 切り出し開始時刻。秒で表現\n",
    "\n",
    "end = a + 2   # 切り出し終了時刻。同じく秒で表現\n",
    "\n",
    "save_path = \"video/test/Shots/Shots_2_2696_2015-11-21-ML-1-4.mp4\"    # 編集後のファイル保存先のパス\n",
    "\n",
    "video = VideoFileClip(file_path).subclip(start, end)    # ビデオのカット開始\n",
    "\n",
    "video.write_videofile(save_path,fps=25)"
   ]
  },
  {
   "cell_type": "code",
   "execution_count": 980,
   "id": "058ba16b",
   "metadata": {},
   "outputs": [
    {
     "name": "stdout",
     "output_type": "stream",
     "text": [
      "Moviepy - Building video video/test/Substitution/Substitution_2_1062_2017-04-26-BO-7-1.mp4.\n",
      "MoviePy - Writing audio in Substitution_2_1062_2017-04-26-BO-7-1TEMP_MPY_wvf_snd.mp3\n"
     ]
    },
    {
     "name": "stderr",
     "output_type": "stream",
     "text": [
      "                                                                                                                       \r"
     ]
    },
    {
     "name": "stdout",
     "output_type": "stream",
     "text": [
      "MoviePy - Done.\n",
      "Moviepy - Writing video video/test/Substitution/Substitution_2_1062_2017-04-26-BO-7-1.mp4\n",
      "\n"
     ]
    },
    {
     "name": "stderr",
     "output_type": "stream",
     "text": [
      "                                                                                                                       \r"
     ]
    },
    {
     "name": "stdout",
     "output_type": "stream",
     "text": [
      "Moviepy - Done !\n",
      "Moviepy - video ready video/test/Substitution/Substitution_2_1062_2017-04-26-BO-7-1.mp4\n"
     ]
    }
   ],
   "source": [
    "from moviepy.editor import *\n",
    "\n",
    "file_path = \"2.mp4\"    # 編集したい動画のパス\n",
    "\n",
    "a = 1062\n",
    "start = a - 2    # 切り出し開始時刻。秒で表現\n",
    "\n",
    "end = a + 2   # 切り出し終了時刻。同じく秒で表現\n",
    "\n",
    "save_path = \"video/test/Substitution/Substitution_2_1062_2015-11-21-ML-1-4.mp4\"    # 編集後のファイル保存先のパス\n",
    "\n",
    "video = VideoFileClip(file_path).subclip(start, end)    # ビデオのカット開始\n",
    "\n",
    "video.write_videofile(save_path,fps=25)"
   ]
  },
  {
   "cell_type": "code",
   "execution_count": 982,
   "id": "f54c41d1",
   "metadata": {},
   "outputs": [
    {
     "name": "stdout",
     "output_type": "stream",
     "text": [
      "Moviepy - Building video video/test/Offside/Offside_1_1969_2017-04-26-BO-7-1.mp4.\n",
      "MoviePy - Writing audio in Offside_1_1969_2017-04-26-BO-7-1TEMP_MPY_wvf_snd.mp3\n"
     ]
    },
    {
     "name": "stderr",
     "output_type": "stream",
     "text": [
      "                                                                                                                       \r"
     ]
    },
    {
     "name": "stdout",
     "output_type": "stream",
     "text": [
      "MoviePy - Done.\n",
      "Moviepy - Writing video video/test/Offside/Offside_1_1969_2017-04-26-BO-7-1.mp4\n",
      "\n"
     ]
    },
    {
     "name": "stderr",
     "output_type": "stream",
     "text": [
      "                                                                                                                       \r"
     ]
    },
    {
     "name": "stdout",
     "output_type": "stream",
     "text": [
      "Moviepy - Done !\n",
      "Moviepy - video ready video/test/Offside/Offside_1_1969_2017-04-26-BO-7-1.mp4\n"
     ]
    }
   ],
   "source": [
    "from moviepy.editor import *\n",
    "\n",
    "file_path = \"1.mp4\"    # 編集したい動画のパス\n",
    "\n",
    "a = 1969\n",
    "start = a - 2    # 切り出し開始時刻。秒で表現\n",
    "\n",
    "end = a + 2   # 切り出し終了時刻。同じく秒で表現\n",
    "\n",
    "save_path = \"video/test/Offside/Offside_1_1969_2015-11-21-ML-1-4.mp4\"    # 編集後のファイル保存先のパス\n",
    "\n",
    "video = VideoFileClip(file_path).subclip(start, end)    # ビデオのカット開始\n",
    "\n",
    "video.write_videofile(save_path,fps=25)"
   ]
  },
  {
   "cell_type": "code",
   "execution_count": null,
   "id": "65add8a6",
   "metadata": {},
   "outputs": [],
   "source": []
  }
 ],
 "metadata": {
  "kernelspec": {
   "display_name": "Python 3 (ipykernel)",
   "language": "python",
   "name": "python3"
  },
  "language_info": {
   "codemirror_mode": {
    "name": "ipython",
    "version": 3
   },
   "file_extension": ".py",
   "mimetype": "text/x-python",
   "name": "python",
   "nbconvert_exporter": "python",
   "pygments_lexer": "ipython3",
   "version": "3.9.13"
  }
 },
 "nbformat": 4,
 "nbformat_minor": 5
}

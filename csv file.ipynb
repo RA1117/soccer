{
 "cells": [
  {
   "cell_type": "code",
   "execution_count": 14,
   "id": "26e54a41",
   "metadata": {},
   "outputs": [
    {
     "name": "stdout",
     "output_type": "stream",
     "text": [
      "['class_label', 'label_id']\n",
      "['Card', '1']\n",
      "['Clearence', '2']\n",
      "['Corner', '3']\n",
      "['Foul', '4']\n",
      "['free-kick', '5']\n",
      "['Goal', '6']\n",
      "['Offside', '7']\n",
      "['PK', '8']\n",
      "['Shots', '9']\n",
      "['Substitution', '10']\n",
      "['Throw-in', '11']\n"
     ]
    }
   ],
   "source": [
    "import csv\n",
    "f = open('SoccerNet.csv', 'r')\n",
    "dataReader = csv.reader(f)\n",
    "for row in dataReader:\n",
    "    print(row)\n",
    "f.close()"
   ]
  },
  {
   "cell_type": "code",
   "execution_count": 18,
   "id": "8271e26f",
   "metadata": {},
   "outputs": [
    {
     "ename": "AttributeError",
     "evalue": "'set' object has no attribute 'keys'",
     "output_type": "error",
     "traceback": [
      "\u001b[1;31m---------------------------------------------------------------------------\u001b[0m",
      "\u001b[1;31mAttributeError\u001b[0m                            Traceback (most recent call last)",
      "\u001b[1;32mC:\\Users\\RYUTAA~1\\AppData\\Local\\Temp/ipykernel_23936/2810664489.py\u001b[0m in \u001b[0;36m<module>\u001b[1;34m\u001b[0m\n\u001b[0;32m      4\u001b[0m     \u001b[0mwriter\u001b[0m \u001b[1;33m=\u001b[0m \u001b[0mcsv\u001b[0m\u001b[1;33m.\u001b[0m\u001b[0mDictWriter\u001b[0m\u001b[1;33m(\u001b[0m\u001b[0mcsv_file\u001b[0m\u001b[1;33m,\u001b[0m \u001b[0mfieldnames\u001b[0m\u001b[1;33m=\u001b[0m\u001b[0mfieldnames\u001b[0m\u001b[1;33m)\u001b[0m\u001b[1;33m\u001b[0m\u001b[1;33m\u001b[0m\u001b[0m\n\u001b[0;32m      5\u001b[0m     \u001b[0mwriter\u001b[0m\u001b[1;33m.\u001b[0m\u001b[0mwriteheader\u001b[0m\u001b[1;33m(\u001b[0m\u001b[1;33m)\u001b[0m\u001b[1;33m\u001b[0m\u001b[1;33m\u001b[0m\u001b[0m\n\u001b[1;32m----> 6\u001b[1;33m     \u001b[0mwriter\u001b[0m\u001b[1;33m.\u001b[0m\u001b[0mwriterow\u001b[0m\u001b[1;33m(\u001b[0m\u001b[1;33m{\u001b[0m\u001b[1;34m'Card'\u001b[0m\u001b[1;33m,\u001b[0m \u001b[1;36m0\u001b[0m\u001b[1;33m}\u001b[0m\u001b[1;33m)\u001b[0m\u001b[1;33m\u001b[0m\u001b[1;33m\u001b[0m\u001b[0m\n\u001b[0m\u001b[0;32m      7\u001b[0m     \u001b[0mwriter\u001b[0m\u001b[1;33m.\u001b[0m\u001b[0mwriterow\u001b[0m\u001b[1;33m(\u001b[0m\u001b[1;33m{\u001b[0m\u001b[1;34m'Clearence'\u001b[0m\u001b[1;33m,\u001b[0m \u001b[1;36m1\u001b[0m\u001b[1;33m}\u001b[0m\u001b[1;33m)\u001b[0m\u001b[1;33m\u001b[0m\u001b[1;33m\u001b[0m\u001b[0m\n\u001b[0;32m      8\u001b[0m     \u001b[0mwriter\u001b[0m\u001b[1;33m.\u001b[0m\u001b[0mwriterow\u001b[0m\u001b[1;33m(\u001b[0m\u001b[1;33m{\u001b[0m\u001b[1;34m'Corner'\u001b[0m\u001b[1;33m,\u001b[0m \u001b[1;36m2\u001b[0m\u001b[1;33m}\u001b[0m\u001b[1;33m)\u001b[0m\u001b[1;33m\u001b[0m\u001b[1;33m\u001b[0m\u001b[0m\n",
      "\u001b[1;32m~\\anaconda3\\lib\\csv.py\u001b[0m in \u001b[0;36mwriterow\u001b[1;34m(self, rowdict)\u001b[0m\n\u001b[0;32m    152\u001b[0m \u001b[1;33m\u001b[0m\u001b[0m\n\u001b[0;32m    153\u001b[0m     \u001b[1;32mdef\u001b[0m \u001b[0mwriterow\u001b[0m\u001b[1;33m(\u001b[0m\u001b[0mself\u001b[0m\u001b[1;33m,\u001b[0m \u001b[0mrowdict\u001b[0m\u001b[1;33m)\u001b[0m\u001b[1;33m:\u001b[0m\u001b[1;33m\u001b[0m\u001b[1;33m\u001b[0m\u001b[0m\n\u001b[1;32m--> 154\u001b[1;33m         \u001b[1;32mreturn\u001b[0m \u001b[0mself\u001b[0m\u001b[1;33m.\u001b[0m\u001b[0mwriter\u001b[0m\u001b[1;33m.\u001b[0m\u001b[0mwriterow\u001b[0m\u001b[1;33m(\u001b[0m\u001b[0mself\u001b[0m\u001b[1;33m.\u001b[0m\u001b[0m_dict_to_list\u001b[0m\u001b[1;33m(\u001b[0m\u001b[0mrowdict\u001b[0m\u001b[1;33m)\u001b[0m\u001b[1;33m)\u001b[0m\u001b[1;33m\u001b[0m\u001b[1;33m\u001b[0m\u001b[0m\n\u001b[0m\u001b[0;32m    155\u001b[0m \u001b[1;33m\u001b[0m\u001b[0m\n\u001b[0;32m    156\u001b[0m     \u001b[1;32mdef\u001b[0m \u001b[0mwriterows\u001b[0m\u001b[1;33m(\u001b[0m\u001b[0mself\u001b[0m\u001b[1;33m,\u001b[0m \u001b[0mrowdicts\u001b[0m\u001b[1;33m)\u001b[0m\u001b[1;33m:\u001b[0m\u001b[1;33m\u001b[0m\u001b[1;33m\u001b[0m\u001b[0m\n",
      "\u001b[1;32m~\\anaconda3\\lib\\csv.py\u001b[0m in \u001b[0;36m_dict_to_list\u001b[1;34m(self, rowdict)\u001b[0m\n\u001b[0;32m    145\u001b[0m     \u001b[1;32mdef\u001b[0m \u001b[0m_dict_to_list\u001b[0m\u001b[1;33m(\u001b[0m\u001b[0mself\u001b[0m\u001b[1;33m,\u001b[0m \u001b[0mrowdict\u001b[0m\u001b[1;33m)\u001b[0m\u001b[1;33m:\u001b[0m\u001b[1;33m\u001b[0m\u001b[1;33m\u001b[0m\u001b[0m\n\u001b[0;32m    146\u001b[0m         \u001b[1;32mif\u001b[0m \u001b[0mself\u001b[0m\u001b[1;33m.\u001b[0m\u001b[0mextrasaction\u001b[0m \u001b[1;33m==\u001b[0m \u001b[1;34m\"raise\"\u001b[0m\u001b[1;33m:\u001b[0m\u001b[1;33m\u001b[0m\u001b[1;33m\u001b[0m\u001b[0m\n\u001b[1;32m--> 147\u001b[1;33m             \u001b[0mwrong_fields\u001b[0m \u001b[1;33m=\u001b[0m \u001b[0mrowdict\u001b[0m\u001b[1;33m.\u001b[0m\u001b[0mkeys\u001b[0m\u001b[1;33m(\u001b[0m\u001b[1;33m)\u001b[0m \u001b[1;33m-\u001b[0m \u001b[0mself\u001b[0m\u001b[1;33m.\u001b[0m\u001b[0mfieldnames\u001b[0m\u001b[1;33m\u001b[0m\u001b[1;33m\u001b[0m\u001b[0m\n\u001b[0m\u001b[0;32m    148\u001b[0m             \u001b[1;32mif\u001b[0m \u001b[0mwrong_fields\u001b[0m\u001b[1;33m:\u001b[0m\u001b[1;33m\u001b[0m\u001b[1;33m\u001b[0m\u001b[0m\n\u001b[0;32m    149\u001b[0m                 raise ValueError(\"dict contains fields not in fieldnames: \"\n",
      "\u001b[1;31mAttributeError\u001b[0m: 'set' object has no attribute 'keys'"
     ]
    }
   ],
   "source": [
    "import csv\n",
    "with open('test.csv', 'w') as csv_file:\n",
    "    fieldnames = ['class_label', 'label_id']\n",
    "    writer = csv.DictWriter(csv_file, fieldnames=fieldnames)\n",
    "    writer.writeheader()\n",
    "    writer.writerow({'Card', 0})\n",
    "    writer.writerow({'Clearence', 1})\n",
    "    writer.writerow({'Corner', 2})\n",
    "    writer.writerow({'Foul', 3})\n",
    "    writer.writerow({'free-kick', 4})\n",
    "    writer.writerow({'Goal', 5})\n",
    "    writer.writerow({'Offside', 6})\n",
    "    writer.writerow({'PK', 7})\n",
    "    writer.writerow({'Shots',  8})\n",
    "    writer.writerow({'Substitution', 9})\n",
    "    writer.writerow({'Throw-in', 10})"
   ]
  },
  {
   "cell_type": "code",
   "execution_count": 19,
   "id": "f5ec4823",
   "metadata": {},
   "outputs": [
    {
     "name": "stdout",
     "output_type": "stream",
     "text": [
      " ドライブ E のボリューム ラベルは Extreme Pro です\n",
      " ボリューム シリアル番号は 841B-E2C7 です\n",
      "\n",
      " E:\\ のディレクトリ\n",
      "\n",
      "2022/10/12  21:01    <DIR>          .ipynb_checkpoints\n",
      "2022/11/06  09:23       148,145,002 1.mp4\n",
      "2022/11/06  09:26       156,745,741 2.mp4\n",
      "2021/03/26  07:52    <DIR>          context-aware-loss-master\n",
      "2022/11/06  21:51             6,952 csv file.ipynb\n",
      "2022/10/24  12:51       107,554,816 ffmpeg.exe\n",
      "2022/10/24  12:51    <DIR>          ffmpeg-master-latest-win64-gpl\n",
      "2022/10/16  16:53    <DIR>          img\n",
      "2022/11/02  18:50            12,424 img.ipynb\n",
      "2022/11/06  11:51             5,829 img2.ipynb\n",
      "2020/06/27  07:54         7,966,967 Install Security for Mac.zip\n",
      "2020/06/27  07:54         8,933,456 Install Security for Windows.exe\n",
      "2022/09/29  22:26             7,472 kinetics_400_label_dicitionary.csv\n",
      "2022/10/21  11:15               123 label.csv\n",
      "2022/10/21  11:23               123 labels.txt\n",
      "2022/11/06  09:38            13,326 movie 2.ipynb\n",
      "2022/11/03  15:23            23,821 movie test.ipynb\n",
      "2022/11/03  20:53            24,731 movie.ipynb\n",
      "2022/10/04  15:57    <DIR>          path\n",
      "2022/10/21  22:30    <DIR>          python3nen_kikaigakushu_sample\n",
      "2022/10/18  23:26             4,681 pytorch.ipynb\n",
      "2022/11/06  22:07               165 SN.csv\n",
      "2022/11/06  22:00               326 SN.txt\n",
      "2022/05/09  06:36    <DIR>          sn-spotting-main\n",
      "2022/10/16  15:26    <DIR>          soccer\n",
      "2022/10/23  07:34           594,740 Soccernet data.ipynb\n",
      "2022/11/06  22:10               174 SoccerNet.csv\n",
      "2022/11/07  19:21           108,773 SoccerNet.ipynb\n",
      "2022/10/22  18:22                30 SoccerNet-0.1.35.tar.gz\n",
      "2022/11/06  22:25               141 SoccerNet2.csv\n",
      "2021/02/23  00:50    <DIR>          SoccerNet-code-master\n",
      "2022/06/06  07:46    <DIR>          SoccerNetv2-DevKit-main\n",
      "2022/11/07  09:35    <DIR>          tbX\n",
      "2022/11/06  21:51                23 test.csv\n",
      "2022/10/21  09:38            31,854 UCF101.ipynb\n",
      "2022/10/21  07:52    <DIR>          UCF101TrainTestSplits-RecognitionTask\n",
      "2013/07/21  14:22    <DIR>          ucfTrainTestlist\n",
      "2022/10/25  07:52           492,075 Untitled.ipynb\n",
      "2022/10/25  10:31           490,732 Untitled1.ipynb\n",
      "2022/10/22  19:58           161,532 Untitled10.ipynb\n",
      "2022/10/22  22:20            18,256 Untitled11.ipynb\n",
      "2022/11/07  16:29             9,874 Untitled12.ipynb\n",
      "2022/10/16  11:36             3,548 Untitled2.ipynb\n",
      "2022/10/17  11:17             3,679 Untitled3.ipynb\n",
      "2022/10/20  11:02             5,516 Untitled4.ipynb\n",
      "2022/10/20  14:22         2,030,096 Untitled5.ipynb\n",
      "2022/10/14  15:22         1,907,266 Untitled6.ipynb\n",
      "2022/10/21  22:43            12,151 Untitled7.ipynb\n",
      "2022/10/21  09:47             2,839 Untitled8.ipynb\n",
      "2022/10/22  09:51             4,720 Untitled9.ipynb\n",
      "2022/10/21  22:40    <DIR>          video\n",
      "2022/10/22  09:44        28,582,014 yt_bb_classification_train.csv.gz\n",
      "              38 個のファイル         463,905,988 バイト\n",
      "              14 個のディレクトリ  92,292,513,792 バイトの空き領域\n"
     ]
    }
   ],
   "source": [
    "ls"
   ]
  },
  {
   "cell_type": "code",
   "execution_count": 27,
   "id": "e0f314ef",
   "metadata": {},
   "outputs": [
    {
     "name": "stdout",
     "output_type": "stream",
     "text": [
      "E:\\video\\train\\Corner\n"
     ]
    }
   ],
   "source": [
    "cd video/train/Corner"
   ]
  },
  {
   "cell_type": "code",
   "execution_count": 21,
   "id": "c080b677",
   "metadata": {},
   "outputs": [
    {
     "name": "stdout",
     "output_type": "stream",
     "text": [
      "E:\\video\\train\n"
     ]
    }
   ],
   "source": [
    "cd train"
   ]
  },
  {
   "cell_type": "code",
   "execution_count": 22,
   "id": "711d1f93",
   "metadata": {},
   "outputs": [
    {
     "name": "stdout",
     "output_type": "stream",
     "text": [
      "E:\\video\\train\\Corner\n"
     ]
    }
   ],
   "source": [
    "cd Corner"
   ]
  },
  {
   "cell_type": "code",
   "execution_count": 31,
   "id": "b284fe8a",
   "metadata": {},
   "outputs": [
    {
     "name": "stdout",
     "output_type": "stream",
     "text": [
      "E:\\\n"
     ]
    }
   ],
   "source": [
    "cd .."
   ]
  },
  {
   "cell_type": "code",
   "execution_count": 32,
   "id": "c076a49a",
   "metadata": {},
   "outputs": [],
   "source": [
    "mkdir videos"
   ]
  },
  {
   "cell_type": "code",
   "execution_count": 33,
   "id": "5422b734",
   "metadata": {},
   "outputs": [
    {
     "name": "stdout",
     "output_type": "stream",
     "text": [
      "E:\\videos\n"
     ]
    }
   ],
   "source": [
    "cd videos"
   ]
  },
  {
   "cell_type": "code",
   "execution_count": 34,
   "id": "29abbe74",
   "metadata": {},
   "outputs": [],
   "source": [
    "mkdir train"
   ]
  },
  {
   "cell_type": "code",
   "execution_count": 35,
   "id": "d3ba049c",
   "metadata": {},
   "outputs": [
    {
     "name": "stdout",
     "output_type": "stream",
     "text": [
      "E:\\videos\\train\n"
     ]
    }
   ],
   "source": [
    "cd train"
   ]
  },
  {
   "cell_type": "code",
   "execution_count": 36,
   "id": "11625d48",
   "metadata": {},
   "outputs": [],
   "source": [
    "mkdir Corner"
   ]
  },
  {
   "cell_type": "code",
   "execution_count": null,
   "id": "ae293567",
   "metadata": {},
   "outputs": [],
   "source": []
  }
 ],
 "metadata": {
  "kernelspec": {
   "display_name": "Python 3 (ipykernel)",
   "language": "python",
   "name": "python3"
  },
  "language_info": {
   "codemirror_mode": {
    "name": "ipython",
    "version": 3
   },
   "file_extension": ".py",
   "mimetype": "text/x-python",
   "name": "python",
   "nbconvert_exporter": "python",
   "pygments_lexer": "ipython3",
   "version": "3.9.13"
  }
 },
 "nbformat": 4,
 "nbformat_minor": 5
}

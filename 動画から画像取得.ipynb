{
 "cells": [
  {
   "cell_type": "code",
   "execution_count": 44,
   "id": "d04c59f7",
   "metadata": {},
   "outputs": [],
   "source": [
    "import cv2\n",
    "import os\n",
    "def save_frame_sec(video_path, sec, result_path):\n",
    "    cap = cv2.VideoCapture(video_path)\n",
    "\n",
    "    if not cap.isOpened():\n",
    "        return\n",
    "\n",
    "    os.makedirs(os.path.dirname(result_path), exist_ok=True)\n",
    "\n",
    "    fps = cap.get(cv2.CAP_PROP_FPS)\n",
    "\n",
    "    cap.set(cv2.CAP_PROP_POS_FRAMES, round(fps * sec))\n",
    "\n",
    "    ret, frame = cap.read()\n",
    "\n",
    "    if ret:\n",
    "        cv2.imwrite(result_path, frame)\n",
    "\n",
    "save_frame_sec('path/to/soccernet/england_epl/2014-2015/2015-02-21 - 18-00 Chelsea 1 - 1 Burnley/2.mkv', 1505, 'img/train/Card/Card_2_1505_2015-02-21_Time-0sec.jpg')"
   ]
  },
  {
   "cell_type": "code",
   "execution_count": null,
   "id": "cb3880d8",
   "metadata": {},
   "outputs": [],
   "source": [
    "a = [1606,  ]\n",
    "b = [133, 232, 1216, 1877, 2504,  ]"
   ]
  },
  {
   "cell_type": "code",
   "execution_count": null,
   "id": "fe9ed60f",
   "metadata": {},
   "outputs": [],
   "source": [
    "import cv2\n",
    "import os\n",
    "def save_frame_sec(video_path, sec, result_path):\n",
    "    cap = cv2.VideoCapture(video_path)\n",
    "\n",
    "    if not cap.isOpened():\n",
    "        return\n",
    "\n",
    "    os.makedirs(os.path.dirname(result_path), exist_ok=True)\n",
    "\n",
    "    fps = cap.get(cv2.CAP_PROP_FPS)\n",
    "\n",
    "    cap.set(cv2.CAP_PROP_POS_FRAMES, round(fps * sec))\n",
    "\n",
    "    ret, frame = cap.read()\n",
    "\n",
    "    if ret:\n",
    "        cv2.imwrite(result_path, frame)\n",
    "\n",
    "save_frame_sec('path/to/soccernet/england_epl/2014-2015/2015-02-21 - 18-00 Chelsea 1 - 1 Burnley/2.mkv', 1505, 'img/train/Goal/Goal_2_1505_2015-02-21_Time-0sec.jpg')"
   ]
  },
  {
   "cell_type": "code",
   "execution_count": null,
   "id": "9442a3f1",
   "metadata": {},
   "outputs": [],
   "source": [
    "a = []\n",
    "b = []"
   ]
  },
  {
   "cell_type": "code",
   "execution_count": null,
   "id": "962d5033",
   "metadata": {},
   "outputs": [],
   "source": [
    "import cv2\n",
    "import os\n",
    "def save_frame_sec(video_path, sec, result_path):\n",
    "    cap = cv2.VideoCapture(video_path)\n",
    "​\n",
    "    if not cap.isOpened():\n",
    "        return\n",
    "​\n",
    "    os.makedirs(os.path.dirname(result_path), exist_ok=True)\n",
    "​\n",
    "    fps = cap.get(cv2.CAP_PROP_FPS)\n",
    "​\n",
    "    cap.set(cv2.CAP_PROP_POS_FRAMES, round(fps * sec))\n",
    "​\n",
    "    ret, frame = cap.read()\n",
    "​\n",
    "    if ret:\n",
    "        cv2.imwrite(result_path, frame)\n",
    "​\n",
    "save_frame_sec('path/to/soccernet/england_epl/2014-2015/2015-02-21 - 18-00 Chelsea 1 - 1 Burnley/1.mkv', 1345, 'img/train/PK/PK_1_1345_2015-02-21_Time-0sec.jpg')"
   ]
  },
  {
   "cell_type": "code",
   "execution_count": null,
   "id": "353dd54e",
   "metadata": {},
   "outputs": [],
   "source": [
    "a = [ ]\n",
    "b = [ ]"
   ]
  },
  {
   "cell_type": "code",
   "execution_count": null,
   "id": "f49e367c",
   "metadata": {},
   "outputs": [],
   "source": [
    "import cv2\n",
    "import os\n",
    "def save_frame_sec(video_path, sec, result_path):\n",
    "    cap = cv2.VideoCapture(video_path)\n",
    "\n",
    "    if not cap.isOpened():\n",
    "        return\n",
    "\n",
    "    os.makedirs(os.path.dirname(result_path), exist_ok=True)\n",
    "\n",
    "    fps = cap.get(cv2.CAP_PROP_FPS)\n",
    "\n",
    "    cap.set(cv2.CAP_PROP_POS_FRAMES, round(fps * sec))\n",
    "\n",
    "    ret, frame = cap.read()\n",
    "\n",
    "    if ret:\n",
    "        cv2.imwrite(result_path, frame)\n",
    "\n",
    "save_frame_sec('path/to/soccernet/england_epl/2014-2015/2015-02-21 - 18-00 Chelsea 1 - 1 Burnley/1.mkv', 1345, 'img/train/Substitution/Substitution_1_1345_2015-02-21_Time-0sec.jpg')"
   ]
  },
  {
   "cell_type": "code",
   "execution_count": null,
   "id": "0bb071e4",
   "metadata": {},
   "outputs": [],
   "source": [
    "a = [  ]\n",
    "b = [889, 1400, 2084,  ]"
   ]
  },
  {
   "cell_type": "code",
   "execution_count": null,
   "id": "39cfb421",
   "metadata": {},
   "outputs": [],
   "source": [
    "import cv2\n",
    "import os\n",
    "def save_frame_sec(video_path, sec, result_path):\n",
    "    cap = cv2.VideoCapture(video_path)\n",
    "\n",
    "    if not cap.isOpened():\n",
    "        return\n",
    "\n",
    "    os.makedirs(os.path.dirname(result_path), exist_ok=True)\n",
    "\n",
    "    fps = cap.get(cv2.CAP_PROP_FPS)\n",
    "\n",
    "    cap.set(cv2.CAP_PROP_POS_FRAMES, round(fps * sec))\n",
    "\n",
    "    ret, frame = cap.read()\n",
    "\n",
    "    if ret:\n",
    "        cv2.imwrite(result_path, frame)\n",
    "\n",
    "save_frame_sec('path/to/soccernet/england_epl/2014-2015/2015-02-21 - 18-00 Chelsea 1 - 1 Burnley/1.mkv', 1345, 'img/train/Offside/Offside_1_1345_2015-02-21_Time-0sec.jpg')"
   ]
  },
  {
   "cell_type": "code",
   "execution_count": null,
   "id": "1681b317",
   "metadata": {},
   "outputs": [],
   "source": [
    "a = [ 421, 738, 1146, 1846,  ]\n",
    "b = [ 1301, ]"
   ]
  }
 ],
 "metadata": {
  "kernelspec": {
   "display_name": "Python 3 (ipykernel)",
   "language": "python",
   "name": "python3"
  },
  "language_info": {
   "codemirror_mode": {
    "name": "ipython",
    "version": 3
   },
   "file_extension": ".py",
   "mimetype": "text/x-python",
   "name": "python",
   "nbconvert_exporter": "python",
   "pygments_lexer": "ipython3",
   "version": "3.9.13"
  }
 },
 "nbformat": 4,
 "nbformat_minor": 5
}
